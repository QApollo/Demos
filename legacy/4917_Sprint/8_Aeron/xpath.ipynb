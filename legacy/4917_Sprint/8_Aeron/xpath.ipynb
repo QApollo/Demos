{
 "cells": [
  {
   "cell_type": "code",
   "execution_count": 137,
   "metadata": {},
   "outputs": [],
   "source": [
    "from lxml import etree\n",
    "from io import StringIO\n",
    "\n",
    "f = open(\"countries.xml\")\n",
    "xml = f.read()\n",
    "f.close()\n",
    "\n",
    "tree = etree.parse(StringIO(xml))"
   ]
  },
  {
   "cell_type": "code",
   "execution_count": 138,
   "metadata": {},
   "outputs": [],
   "source": [
    "r = tree.xpath(\"/data/country\") #show name"
   ]
  },
  {
   "cell_type": "code",
   "execution_count": 139,
   "metadata": {},
   "outputs": [
    {
     "name": "stdout",
     "output_type": "stream",
     "text": [
      "country\n",
      "country\n",
      "country\n",
      "country\n",
      "country\n",
      "country\n"
     ]
    }
   ],
   "source": [
    "#print(r[0].tag)\n",
    "for i in r:\n",
    "    print(i.tag) #tag it with name"
   ]
  },
  {
   "cell_type": "code",
   "execution_count": 140,
   "metadata": {
    "collapsed": true
   },
   "outputs": [],
   "source": [
    "r = tree.xpath(\"//@name\")"
   ]
  },
  {
   "cell_type": "code",
   "execution_count": 141,
   "metadata": {},
   "outputs": [
    {
     "name": "stdout",
     "output_type": "stream",
     "text": [
      "['Liechtenstein', 'Austria', 'Switzerland', 'Singapore', 'Malaysia', 'Panama', 'Costa Rica', 'Colombia', 'Germany', 'France', 'China']\n"
     ]
    }
   ],
   "source": [
    "print(r)"
   ]
  },
  {
   "cell_type": "code",
   "execution_count": 142,
   "metadata": {
    "collapsed": true
   },
   "outputs": [],
   "source": [
    "r = tree.xpath(\"//country[@name='Liechtenstein']\")"
   ]
  },
  {
   "cell_type": "code",
   "execution_count": 143,
   "metadata": {},
   "outputs": [
    {
     "name": "stdout",
     "output_type": "stream",
     "text": [
      "[<Element country at 0x1c8de4963c8>]\n"
     ]
    }
   ],
   "source": [
    "print(r)"
   ]
  },
  {
   "cell_type": "code",
   "execution_count": 147,
   "metadata": {
    "collapsed": true
   },
   "outputs": [],
   "source": [
    "r = tree.xpath(\"country[year<2009]/name\") #check > too"
   ]
  },
  {
   "cell_type": "code",
   "execution_count": 148,
   "metadata": {},
   "outputs": [
    {
     "name": "stdout",
     "output_type": "stream",
     "text": [
      "[<Element name at 0x1c8de496a88>, <Element name at 0x1c8de496e48>, <Element name at 0x1c8de496e08>]\n"
     ]
    }
   ],
   "source": [
    "print(r)"
   ]
  },
  {
   "cell_type": "code",
   "execution_count": 149,
   "metadata": {},
   "outputs": [
    {
     "name": "stdout",
     "output_type": "stream",
     "text": [
      "Liechtenstein\n",
      "France\n",
      "China\n"
     ]
    }
   ],
   "source": [
    "#print(r[0].tag)\n",
    "for i in r:\n",
    "    print(i.text) #tag it with name"
   ]
  },
  {
   "cell_type": "code",
   "execution_count": 152,
   "metadata": {
    "collapsed": true
   },
   "outputs": [],
   "source": [
    "r = tree.xpath(\"country[last()-1]/*\") #check > too\n"
   ]
  },
  {
   "cell_type": "code",
   "execution_count": 153,
   "metadata": {},
   "outputs": [
    {
     "name": "stdout",
     "output_type": "stream",
     "text": [
      "name\n",
      "{'updated': 'yes'}\n",
      "France\n"
     ]
    }
   ],
   "source": [
    "print(r[0].tag)\n",
    "print(r[1].attrib)\n",
    "print(r[0].text)"
   ]
  },
  {
   "cell_type": "code",
   "execution_count": 154,
   "metadata": {
    "collapsed": true
   },
   "outputs": [],
   "source": [
    "r = tree.xpath(\"country[position()<3]/*\") #check > too\n"
   ]
  },
  {
   "cell_type": "code",
   "execution_count": 155,
   "metadata": {},
   "outputs": [
    {
     "name": "stdout",
     "output_type": "stream",
     "text": [
      "[<Element name at 0x1c8de459f08>, <Element rank at 0x1c8de459ac8>, <Element year at 0x1c8de459408>, <Element gdppc at 0x1c8de459588>, <Element neighbor at 0x1c8de459988>, <Element neighbor at 0x1c8de45b888>, <Element name at 0x1c8de45b9c8>, <Element rank at 0x1c8de45b988>, <Element year at 0x1c8de45be88>, <Element gdppc at 0x1c8de45bac8>, <Element neighbor at 0x1c8de45b288>]\n",
      "Liechtenstein\n",
      "2\n",
      "2008\n"
     ]
    }
   ],
   "source": [
    "print(r)\n",
    "print(r[0].text)\n",
    "print(r[1].text)\n",
    "print(r[2].text)"
   ]
  },
  {
   "cell_type": "code",
   "execution_count": 156,
   "metadata": {
    "collapsed": true
   },
   "outputs": [],
   "source": [
    "r = tree.xpath(\"//country/gdppc | //country/neighbor\")"
   ]
  },
  {
   "cell_type": "code",
   "execution_count": 157,
   "metadata": {},
   "outputs": [
    {
     "name": "stdout",
     "output_type": "stream",
     "text": [
      "[<Element gdppc at 0x1c8de459588>, <Element neighbor at 0x1c8de459988>, <Element neighbor at 0x1c8de45b888>, <Element gdppc at 0x1c8de45bac8>, <Element neighbor at 0x1c8de45b288>, <Element gdppc at 0x1c8de477e08>, <Element neighbor at 0x1c8de477c88>, <Element neighbor at 0x1c8de48da08>, <Element gdppc at 0x1c8de48d588>, <Element gdppc at 0x1c8de45b408>, <Element gdppc at 0x1c8de48dac8>]\n"
     ]
    }
   ],
   "source": [
    "print(r)"
   ]
  },
  {
   "cell_type": "code",
   "execution_count": 163,
   "metadata": {},
   "outputs": [],
   "source": [
    "r = tree.xpath(\"country[1]/descendant::neighbor\")\n"
   ]
  },
  {
   "cell_type": "code",
   "execution_count": 167,
   "metadata": {},
   "outputs": [
    {
     "name": "stdout",
     "output_type": "stream",
     "text": [
      "{'name': 'Austria', 'direction': 'E'}\n",
      "{'name': 'Switzerland', 'direction': 'W'}\n"
     ]
    }
   ],
   "source": [
    "print(r[0].attrib)\n",
    "print(r[1].attrib)"
   ]
  },
  {
   "cell_type": "code",
   "execution_count": 168,
   "metadata": {
    "collapsed": true
   },
   "outputs": [],
   "source": [
    "r = tree.xpath(\"country[gdppc=59900]/year\")"
   ]
  },
  {
   "cell_type": "code",
   "execution_count": 169,
   "metadata": {},
   "outputs": [
    {
     "name": "stdout",
     "output_type": "stream",
     "text": [
      "2011\n"
     ]
    }
   ],
   "source": [
    "print(r[0].text)"
   ]
  }
 ],
 "metadata": {
  "kernelspec": {
   "display_name": "Python 3",
   "language": "python",
   "name": "python3"
  },
  "language_info": {
   "codemirror_mode": {
    "name": "ipython",
    "version": 3
   },
   "file_extension": ".py",
   "mimetype": "text/x-python",
   "name": "python",
   "nbconvert_exporter": "python",
   "pygments_lexer": "ipython3",
   "version": "3.6.3"
  }
 },
 "nbformat": 4,
 "nbformat_minor": 2
}
